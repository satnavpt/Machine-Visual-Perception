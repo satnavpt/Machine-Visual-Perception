{
 "cells": [
  {
   "cell_type": "code",
   "execution_count": 52,
   "metadata": {},
   "outputs": [],
   "source": [
    "import tensorflow as tf\n",
    "import numpy as np\n",
    "from keras.utils import np_utils"
   ]
  },
  {
   "cell_type": "code",
   "execution_count": 40,
   "metadata": {},
   "outputs": [],
   "source": [
    "fashion_mnist = tf.keras.datasets.fashion_mnist\n",
    "(train_images, train_labels), (test_images, test_labels) = fashion_mnist.load_data()"
   ]
  },
  {
   "cell_type": "code",
   "execution_count": 41,
   "metadata": {},
   "outputs": [
    {
     "data": {
      "text/plain": [
       "array([0, 0, 0, 0, 0, 0, 0, 0, 0, 0, 0, 0, 0, 0, 0, 0, 0, 0, 0, 0, 0, 0,\n",
       "       0, 0, 0, 0, 0, 0], dtype=uint8)"
      ]
     },
     "execution_count": 41,
     "metadata": {},
     "output_type": "execute_result"
    }
   ],
   "source": [
    "train_images[0][0] # pixel valuea"
   ]
  },
  {
   "cell_type": "code",
   "execution_count": 42,
   "metadata": {},
   "outputs": [
    {
     "data": {
      "text/plain": [
       "9"
      ]
     },
     "execution_count": 42,
     "metadata": {},
     "output_type": "execute_result"
    }
   ],
   "source": [
    "train_labels[0] # image classes"
   ]
  },
  {
   "cell_type": "code",
   "execution_count": 43,
   "metadata": {},
   "outputs": [
    {
     "data": {
      "text/plain": [
       "((60000, 28, 28), (60000,), (10000, 28, 28), (10000,))"
      ]
     },
     "execution_count": 43,
     "metadata": {},
     "output_type": "execute_result"
    }
   ],
   "source": [
    "train_images.shape, train_labels.shape, test_images.shape, test_labels.shape"
   ]
  },
  {
   "cell_type": "code",
   "execution_count": 44,
   "metadata": {},
   "outputs": [],
   "source": [
    "train_images = train_images / 255.0\n",
    "test_images = test_images / 255.0"
   ]
  },
  {
   "cell_type": "code",
   "execution_count": 53,
   "metadata": {},
   "outputs": [],
   "source": [
    "n_classes = 10\n",
    "train_labels = np_utils.to_categorical(train_labels, n_classes)\n",
    "test_labels = np_utils.to_categorical(test_labels, n_classes)"
   ]
  },
  {
   "cell_type": "code",
   "execution_count": 55,
   "metadata": {},
   "outputs": [
    {
     "name": "stdout",
     "output_type": "stream",
     "text": [
      "Epoch 1/10\n",
      "469/469 [==============================] - 3s 4ms/step - loss: 0.5584 - accuracy: 0.8068\n",
      "Epoch 2/10\n",
      "469/469 [==============================] - 2s 3ms/step - loss: 0.4022 - accuracy: 0.8595\n",
      "Epoch 3/10\n",
      "469/469 [==============================] - 2s 3ms/step - loss: 0.3626 - accuracy: 0.8710\n",
      "Epoch 4/10\n",
      "469/469 [==============================] - 2s 4ms/step - loss: 0.3370 - accuracy: 0.8779\n",
      "Epoch 5/10\n",
      "469/469 [==============================] - 2s 3ms/step - loss: 0.3152 - accuracy: 0.8860\n",
      "Epoch 6/10\n",
      "469/469 [==============================] - 2s 3ms/step - loss: 0.2999 - accuracy: 0.8927\n",
      "Epoch 7/10\n",
      "469/469 [==============================] - 2s 3ms/step - loss: 0.2907 - accuracy: 0.8941\n",
      "Epoch 8/10\n",
      "469/469 [==============================] - 2s 3ms/step - loss: 0.2744 - accuracy: 0.8992\n",
      "Epoch 9/10\n",
      "469/469 [==============================] - 2s 3ms/step - loss: 0.2649 - accuracy: 0.9031\n",
      "Epoch 10/10\n",
      "469/469 [==============================] - 2s 3ms/step - loss: 0.2576 - accuracy: 0.9049\n",
      "313/313 - 1s - loss: 0.3342 - accuracy: 0.8806 - 673ms/epoch - 2ms/step\n",
      "Loss:  0.33423 \n",
      "Accuracy:  88.0 %\n",
      "313/313 [==============================] - 1s 2ms/step\n",
      "Prediction:  9\n"
     ]
    }
   ],
   "source": [
    "model = tf.keras.Sequential([\n",
    "    tf.keras.layers.Flatten(input_shape=(28,28)),\n",
    "    tf.keras.layers.Dense(128, activation='relu'),\n",
    "    tf.keras.layers.Dense(10, activation=\"softmax\")\n",
    "])\n",
    "\n",
    "model.compile(\n",
    "    optimizer=tf.keras.optimizers.Adam(learning_rate=1e-3),\n",
    "    loss=tf.keras.losses.CategoricalCrossentropy(),\n",
    "    metrics=['accuracy']\n",
    ")\n",
    "\n",
    "model.fit(train_images, train_labels, batch_size=128, epochs=10)\n",
    "\n",
    "test_loss, test_acc = model.evaluate(test_images, test_labels, verbose=2)\n",
    "print(\"Loss: \", round(test_loss, 5), \"\\nAccuracy: \", (round(test_acc, 2)*100), \"%\")\n",
    "\n",
    "predictions = model.predict(test_images)\n",
    "predictions[0]\n",
    "print(\"Prediction: \", np.argmax(predictions[0]))"
   ]
  },
  {
   "cell_type": "code",
   "execution_count": 58,
   "metadata": {},
   "outputs": [
    {
     "name": "stdout",
     "output_type": "stream",
     "text": [
      "Epoch 1/10\n",
      "469/469 [==============================] - 30s 61ms/step - loss: 0.4362 - accuracy: 0.8472\n",
      "Epoch 2/10\n",
      "469/469 [==============================] - 35s 76ms/step - loss: 0.2885 - accuracy: 0.8953\n",
      "Epoch 3/10\n",
      "469/469 [==============================] - 36s 77ms/step - loss: 0.2390 - accuracy: 0.9136\n",
      "Epoch 4/10\n",
      "469/469 [==============================] - 36s 76ms/step - loss: 0.2046 - accuracy: 0.9256\n",
      "Epoch 5/10\n",
      "469/469 [==============================] - 37s 79ms/step - loss: 0.1758 - accuracy: 0.9358\n",
      "Epoch 6/10\n",
      "469/469 [==============================] - 35s 74ms/step - loss: 0.1528 - accuracy: 0.9447\n",
      "Epoch 7/10\n",
      "469/469 [==============================] - 38s 82ms/step - loss: 0.1328 - accuracy: 0.9517\n",
      "Epoch 8/10\n",
      "469/469 [==============================] - 38s 81ms/step - loss: 0.1146 - accuracy: 0.9585\n",
      "Epoch 9/10\n",
      "469/469 [==============================] - 33s 70ms/step - loss: 0.0973 - accuracy: 0.9657\n",
      "Epoch 10/10\n",
      "469/469 [==============================] - 18s 39ms/step - loss: 0.0854 - accuracy: 0.9697\n",
      "313/313 - 3s - loss: 0.3189 - accuracy: 0.9076 - 3s/epoch - 10ms/step\n",
      "Loss:  0.31886 \n",
      "Accuracy:  91.0 %\n",
      "313/313 [==============================] - 4s 12ms/step\n",
      "Prediction:  9\n"
     ]
    }
   ],
   "source": [
    "model2 = tf.keras.Sequential([\n",
    "    tf.keras.layers.Conv2D(25, (3,3), activation=\"relu\", input_shape=(28,28,1)),\n",
    "    tf.keras.layers.MaxPool2D(pool_size=(1,1)),\n",
    "    tf.keras.layers.Flatten(),\n",
    "    tf.keras.layers.Dense(100, activation=\"relu\"),\n",
    "    tf.keras.layers.Dense(10, activation=\"softmax\")\n",
    "])\n",
    "\n",
    "model2.compile(\n",
    "    optimizer=tf.keras.optimizers.Adam(learning_rate=1e-3),\n",
    "    loss=tf.keras.losses.CategoricalCrossentropy(),\n",
    "    metrics=['accuracy']\n",
    ")\n",
    "\n",
    "model2.fit(train_images, train_labels, batch_size=128, epochs=10)\n",
    "\n",
    "test_loss, test_acc = model2.evaluate(test_images, test_labels, verbose=2)\n",
    "print(\"Loss: \", round(test_loss, 5), \"\\nAccuracy: \", (round(test_acc, 2)*100), \"%\")\n",
    "\n",
    "predictions = model2.predict(test_images)\n",
    "predictions[0]\n",
    "print(\"Prediction: \", np.argmax(predictions[0]))"
   ]
  }
 ],
 "metadata": {
  "kernelspec": {
   "display_name": "Python 3.10.8 64-bit",
   "language": "python",
   "name": "python3"
  },
  "language_info": {
   "codemirror_mode": {
    "name": "ipython",
    "version": 3
   },
   "file_extension": ".py",
   "mimetype": "text/x-python",
   "name": "python",
   "nbconvert_exporter": "python",
   "pygments_lexer": "ipython3",
   "version": "3.10.8"
  },
  "orig_nbformat": 4,
  "vscode": {
   "interpreter": {
    "hash": "26de051ba29f2982a8de78e945f0abaf191376122a1563185a90213a26c5da77"
   }
  }
 },
 "nbformat": 4,
 "nbformat_minor": 2
}
